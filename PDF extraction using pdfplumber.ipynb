{
 "cells": [
  {
   "cell_type": "code",
   "execution_count": null,
   "id": "d48eced5",
   "metadata": {},
   "outputs": [],
   "source": [
    "import re\n",
    "import pdfplumber\n"
   ]
  },
  {
   "cell_type": "code",
   "execution_count": null,
   "id": "f0f746a0",
   "metadata": {},
   "outputs": [],
   "source": [
    "A =[]\n",
    "file = 'sercheble.pdf'\n",
    "with pdfplumber.open('C://Lobhik/Company//Experiment_Run//PDF_Extraction//22NN16210.pdf') as pdf:\n",
    "    pages = pdf.pages\n",
    "    for page in pdf.pages:\n",
    "        text = page.extract_text()\n",
    "        #print(text)\n",
    "        for line in text.split(' '): #Name:\n",
    "            comp = company_re.search(line)\n",
    "            A.append(line)\n",
    "            print(line)"
   ]
  },
  {
   "cell_type": "code",
   "execution_count": null,
   "id": "3544fac0",
   "metadata": {},
   "outputs": [],
   "source": [
    "comp = company_re.search(' i  AYM4001061  ').group(1)\n",
    "print(comp)"
   ]
  },
  {
   "cell_type": "code",
   "execution_count": null,
   "id": "ba5ffd05",
   "metadata": {},
   "outputs": [],
   "source": [
    "company_re.search(' i AYM4001061 2 LYM4001061 3 DYM4001061 hlo lobhik  Phone:8234567890').group(1)"
   ]
  }
 ],
 "metadata": {
  "kernelspec": {
   "display_name": "Python 3 (ipykernel)",
   "language": "python",
   "name": "python3"
  },
  "language_info": {
   "codemirror_mode": {
    "name": "ipython",
    "version": 3
   },
   "file_extension": ".py",
   "mimetype": "text/x-python",
   "name": "python",
   "nbconvert_exporter": "python",
   "pygments_lexer": "ipython3",
   "version": "3.9.12"
  }
 },
 "nbformat": 4,
 "nbformat_minor": 5
}
